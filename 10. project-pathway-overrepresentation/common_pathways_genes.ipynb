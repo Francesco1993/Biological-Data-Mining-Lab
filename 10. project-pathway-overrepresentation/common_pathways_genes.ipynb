{
 "cells": [
  {
   "cell_type": "code",
   "execution_count": 1,
   "metadata": {},
   "outputs": [],
   "source": [
    "import pandas as pd\n",
    "import numpy as np\n",
    "from scipy.stats import hypergeom"
   ]
  },
  {
   "cell_type": "code",
   "execution_count": 2,
   "metadata": {},
   "outputs": [],
   "source": [
    "import pandas as pd\n",
    "\n",
    "# deregulated pathways replication\n",
    "df1 = pd.read_pickle('../4. pathway-overrepresentation/data/deregulated_pathways.pkl')\n",
    "\n",
    "# deregulated pathways project\n",
    "df2 = pd.read_pickle('data/deregulated_pathways.pkl')\n",
    "\n",
    "l1 = list(df1.pathway_id)\n",
    "l2 = list(df2.pathway_id)\n",
    "common = []\n",
    "for idp in l1:\n",
    "    if idp in l2:\n",
    "        common.append(idp)\n",
    "\n",
    "common_df = pd.DataFrame(common)"
   ]
  },
  {
   "cell_type": "code",
   "execution_count": 3,
   "metadata": {},
   "outputs": [
    {
     "name": "stdout",
     "output_type": "stream",
     "text": [
      "===== kegg (28617, 4) =====\n",
      "number of pathways 322\n",
      "number of unique genes 7301\n",
      "total number of genes (rows) 28617\n",
      "===== panther (5239, 4) =====\n",
      "number of pathways 175\n",
      "number of unique genes 2188\n",
      "total number of genes (rows) 5239\n",
      "===== biocarta (24477, 4) =====\n",
      "number of pathways 520\n",
      "number of unique genes 6405\n",
      "total number of genes (rows) 24477\n",
      "===== wikipathway (11068, 4) =====\n",
      "number of pathways 253\n",
      "number of unique genes 4095\n",
      "total number of genes (rows) 11068\n",
      "===== MiRTarBase (380639, 4) =====\n",
      "number of pathways 2599\n",
      "number of unique genes 15064\n",
      "total number of genes (rows) 380639\n",
      "\n",
      "\n",
      "total number of pathways 3869\n"
     ]
    }
   ],
   "source": [
    "kegg_df = pd.read_pickle('../extract_pathway_df/output/kegg.pkl')\n",
    "panther_df = pd.read_pickle('../extract_pathway_df/output/panther.pkl')\n",
    "biocarta_df = pd.read_pickle('../extract_pathway_df/output/biocarta.pkl')\n",
    "wikipathway_df = pd.read_pickle('../extract_pathway_df/output/wikipathway.pkl')\n",
    "mirtarbase_df = pd.read_pickle('../extract_pathway_df/output/mirtarbase.pkl')\n",
    "\n",
    "databases = [kegg_df, panther_df, biocarta_df, wikipathway_df, mirtarbase_df]\n",
    "\n",
    "total_number_of_pathways = 0  \n",
    "for df in databases:\n",
    "    print('=====', list(df.database)[0], df.shape, '=====')\n",
    "    total_number_of_pathways += len(set(df.pathway_id))\n",
    "    print(\"number of pathways\", len(set(df.pathway_id)))\n",
    "    print(\"number of unique genes\", len(set(df.entrez)))\n",
    "    print(\"total number of genes (rows)\", len(df.entrez))\n",
    "\n",
    "merged_df = pd.concat(databases)\n",
    "print(\"\\n\")\n",
    "print(\"total number of pathways\", total_number_of_pathways)"
   ]
  },
  {
   "cell_type": "code",
   "execution_count": 4,
   "metadata": {
    "scrolled": true
   },
   "outputs": [
    {
     "name": "stdout",
     "output_type": "stream",
     "text": [
      "189 4\n"
     ]
    }
   ],
   "source": [
    "number_pathways_df1 = len(list(set(df1.pathway_id)))\n",
    "number_pathways_df2 = len(list(set(df2.pathway_id)))\n",
    "print(number_pathways_df1, number_pathways_df2)"
   ]
  },
  {
   "cell_type": "code",
   "execution_count": 5,
   "metadata": {},
   "outputs": [
    {
     "data": {
      "text/html": [
       "<div>\n",
       "<style>\n",
       "    .dataframe thead tr:only-child th {\n",
       "        text-align: right;\n",
       "    }\n",
       "\n",
       "    .dataframe thead th {\n",
       "        text-align: left;\n",
       "    }\n",
       "\n",
       "    .dataframe tbody tr th {\n",
       "        vertical-align: top;\n",
       "    }\n",
       "</style>\n",
       "<table border=\"1\" class=\"dataframe\">\n",
       "  <thead>\n",
       "    <tr style=\"text-align: right;\">\n",
       "      <th></th>\n",
       "      <th>0</th>\n",
       "    </tr>\n",
       "  </thead>\n",
       "  <tbody>\n",
       "    <tr>\n",
       "      <th>0</th>\n",
       "      <td>94793</td>\n",
       "    </tr>\n",
       "    <tr>\n",
       "      <th>1</th>\n",
       "      <td>92211</td>\n",
       "    </tr>\n",
       "    <tr>\n",
       "      <th>2</th>\n",
       "      <td>05322</td>\n",
       "    </tr>\n",
       "    <tr>\n",
       "      <th>3</th>\n",
       "      <td>hsa-miR-26b-5p</td>\n",
       "    </tr>\n",
       "  </tbody>\n",
       "</table>\n",
       "</div>"
      ],
      "text/plain": [
       "                0\n",
       "0           94793\n",
       "1           92211\n",
       "2           05322\n",
       "3  hsa-miR-26b-5p"
      ]
     },
     "execution_count": 5,
     "metadata": {},
     "output_type": "execute_result"
    }
   ],
   "source": [
    "common_df"
   ]
  },
  {
   "cell_type": "code",
   "execution_count": 6,
   "metadata": {},
   "outputs": [
    {
     "data": {
      "text/plain": [
       "5.5239913175381468e-06"
      ]
     },
     "execution_count": 6,
     "metadata": {},
     "output_type": "execute_result"
    }
   ],
   "source": [
    "[M, n, N] = [total_number_of_pathways, number_pathways_df1, number_pathways_df2]\n",
    "\n",
    "# run the test\n",
    "rv = hypergeom(M, n, N)\n",
    "x = np.arange(0, n+1)\n",
    "\n",
    "# probability mass function\n",
    "pmf_genes_pathway = rv.pmf(x)\n",
    "pmf_genes_pathway[common_df.shape[0]]"
   ]
  },
  {
   "cell_type": "code",
   "execution_count": 13,
   "metadata": {},
   "outputs": [
    {
     "name": "stdout",
     "output_type": "stream",
     "text": [
      "len s1 63\n",
      "len s2 14\n",
      "Number of common genes in the signatures 0\n",
      "[]\n"
     ]
    }
   ],
   "source": [
    "# Check the two signatures\n",
    "\n",
    "# load signature paper replication\n",
    "s1 = pd.read_pickle('../3. signature-extraction/data/signature.pkl')\n",
    "\n",
    "# load signature project\n",
    "s2 = pd.read_pickle('../9. project-signature-extraction/data/signature.pkl')\n",
    "\n",
    "s1_gene = list(s1.index)\n",
    "print(\"len s1\", len(s1_gene))\n",
    "s2_gene = list(s2.index)\n",
    "print(\"len s2\", len(s2_gene))\n",
    "\n",
    "common_gene = []\n",
    "for g in s1_gene:\n",
    "    if g in s2_gene:\n",
    "        common_gene.append(g)\n",
    "\n",
    "print(\"Number of common genes in the signatures\", len(common_gene))\n",
    "print(common_gene)"
   ]
  }
 ],
 "metadata": {
  "kernelspec": {
   "display_name": "Python 3",
   "language": "python3",
   "name": "python3"
  },
  "language_info": {
   "codemirror_mode": {
    "name": "ipython",
    "version": 3
   },
   "file_extension": ".py",
   "mimetype": "text/x-python",
   "name": "python",
   "nbconvert_exporter": "python",
   "pygments_lexer": "ipython3",
   "version": "3.5.2"
  }
 },
 "nbformat": 4,
 "nbformat_minor": 2
}
