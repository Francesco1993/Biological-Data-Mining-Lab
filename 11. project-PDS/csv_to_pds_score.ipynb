{
 "cells": [
  {
   "cell_type": "code",
   "execution_count": 1,
   "metadata": {},
   "outputs": [],
   "source": [
    "import pandas as pd\n",
    "import numpy as np\n",
    "import csv"
   ]
  },
  {
   "cell_type": "code",
   "execution_count": 2,
   "metadata": {},
   "outputs": [],
   "source": [
    "scores = pd.read_csv('data/pds_score.csv')"
   ]
  },
  {
   "cell_type": "code",
   "execution_count": 3,
   "metadata": {},
   "outputs": [
    {
     "data": {
      "text/plain": [
       "{'05322': 0.32935199514669716,\n",
       " '92211': 0.66927114252155551,\n",
       " '94793': 0.36560775610792523,\n",
       " 'hsa-miR-26b-5p': 0.51507663203933507}"
      ]
     },
     "execution_count": 3,
     "metadata": {},
     "output_type": "execute_result"
    }
   ],
   "source": [
    "scores_t = scores.T\n",
    "new_columns = list(scores_t.iloc[0])\n",
    "scores_t.columns = new_columns\n",
    "filtered_scores = scores_t.iloc[1:]\n",
    "filtered_scores.head()\n",
    "\n",
    "\"\"\"\n",
    "dict_mean = {}\n",
    "for l in new_columns:\n",
    "    dict_mean[l] = filtered_scores[]\n",
    "\"\"\"\n",
    "\n",
    "mean_series = filtered_scores.mean(axis=0)\n",
    "mean_df = pd.DataFrame(mean_series)\n",
    "mean_df.head()\n",
    "\n",
    "dict_pathid_deregulation_score = mean_df.to_dict()[0]\n",
    "dict_pathid_deregulation_score"
   ]
  }
 ],
 "metadata": {
  "kernelspec": {
   "display_name": "Python 3",
   "language": "python3",
   "name": "python3"
  },
  "language_info": {
   "codemirror_mode": {
    "name": "ipython",
    "version": 3
   },
   "file_extension": ".py",
   "mimetype": "text/x-python",
   "name": "python",
   "nbconvert_exporter": "python",
   "pygments_lexer": "ipython3",
   "version": "3.5.2"
  }
 },
 "nbformat": 4,
 "nbformat_minor": 2
}
