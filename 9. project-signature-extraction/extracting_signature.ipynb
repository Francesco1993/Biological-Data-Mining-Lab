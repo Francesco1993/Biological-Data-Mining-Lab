{
 "cells": [
  {
   "cell_type": "markdown",
   "metadata": {},
   "source": [
    "# Integrative analysis of pathway deregulation in obesity #\n",
    "\n",
    "## Python implementation\n",
    "\n",
    "### Extracting gene signature\n",
    "\n",
    "1. We have to load the dataset produced and look for those genes that are more related to obese people;"
   ]
  },
  {
   "cell_type": "code",
   "execution_count": 1,
   "metadata": {},
   "outputs": [],
   "source": [
    "### Imports\n",
    "\n",
    "# Import std libraries\n",
    "import os\n",
    "from operator import itemgetter \n",
    "import re\n",
    "import copy\n",
    "\n",
    "# Import third party\n",
    "import numpy as np\n",
    "import scipy as sp\n",
    "from numpy import *\n",
    "import pandas as pd\n",
    "import GEOparse\n",
    "from scipy.stats import ks_2samp\n",
    "from sklearn.decomposition import PCA\n",
    "from sklearn.preprocessing import StandardScaler\n",
    "from sklearn.decomposition import TruncatedSVD\n",
    "\n",
    "# import plotting tools\n",
    "import matplotlib.pyplot as plt\n",
    "from mpl_toolkits.mplot3d import Axes3D\n",
    "import matplotlib.patches as mpatches\n",
    "\n",
    "# Set logging\n",
    "import logging\n",
    "logging.basicConfig(level=logging.INFO)\n",
    "logger = logging.getLogger()\n",
    "logging.getLogger(\"GEOparse\").setLevel(logging.WARNING)\n",
    "\n",
    "plot_dir_path = './plots/'\n",
    "if not os.path.exists(plot_dir_path):\n",
    "    os.makedirs(plot_dir_path)\n",
    "    print('created ./path directory')\n",
    "    \n",
    "# enable matplotlib inline\n",
    "%matplotlib inline"
   ]
  },
  {
   "cell_type": "code",
   "execution_count": 2,
   "metadata": {
    "scrolled": true
   },
   "outputs": [
    {
     "data": {
      "text/html": [
       "<div>\n",
       "<style>\n",
       "    .dataframe thead tr:only-child th {\n",
       "        text-align: right;\n",
       "    }\n",
       "\n",
       "    .dataframe thead th {\n",
       "        text-align: left;\n",
       "    }\n",
       "\n",
       "    .dataframe tbody tr th {\n",
       "        vertical-align: top;\n",
       "    }\n",
       "</style>\n",
       "<table border=\"1\" class=\"dataframe\">\n",
       "  <thead>\n",
       "    <tr style=\"text-align: right;\">\n",
       "      <th></th>\n",
       "      <th>coef</th>\n",
       "    </tr>\n",
       "    <tr>\n",
       "      <th>Entrez_Gene_ID</th>\n",
       "      <th></th>\n",
       "    </tr>\n",
       "  </thead>\n",
       "  <tbody>\n",
       "    <tr>\n",
       "      <th>3117</th>\n",
       "      <td>0.062199</td>\n",
       "    </tr>\n",
       "    <tr>\n",
       "      <th>6192</th>\n",
       "      <td>0.057501</td>\n",
       "    </tr>\n",
       "    <tr>\n",
       "      <th>7503</th>\n",
       "      <td>-0.052744</td>\n",
       "    </tr>\n",
       "    <tr>\n",
       "      <th>8284</th>\n",
       "      <td>0.047435</td>\n",
       "    </tr>\n",
       "    <tr>\n",
       "      <th>5146</th>\n",
       "      <td>0.045797</td>\n",
       "    </tr>\n",
       "  </tbody>\n",
       "</table>\n",
       "</div>"
      ],
      "text/plain": [
       "                    coef\n",
       "Entrez_Gene_ID          \n",
       "3117            0.062199\n",
       "6192            0.057501\n",
       "7503           -0.052744\n",
       "8284            0.047435\n",
       "5146            0.045797"
      ]
     },
     "execution_count": 2,
     "metadata": {},
     "output_type": "execute_result"
    }
   ],
   "source": [
    "df = pd.read_pickle('../8. project-batch-effect-evaluation/data/merged_df_no_batch_effect_project.pkl').T\n",
    "v = (PCA().fit(df)).components_[0]\n",
    "#df.head\n",
    "v_df = pd.DataFrame(columns=[\"coef\",\"abs_coef\"], index = df.columns)\n",
    "v_df.index.names = [\"Entrez_Gene_ID\"]\n",
    "v_df[\"coef\"] = v\n",
    "v_df[\"abs_coef\"] = np.abs(v)\n",
    "v_df.sort_values(by=\"abs_coef\",ascending=False,inplace=True)\n",
    "v_df.drop(\"abs_coef\",axis=1,inplace=True)\n",
    "v_df.head()"
   ]
  },
  {
   "cell_type": "code",
   "execution_count": 3,
   "metadata": {},
   "outputs": [
    {
     "name": "stdout",
     "output_type": "stream",
     "text": [
      "genes beyond threshold: 14\n",
      "this is the threshold 0.00760615739485\n",
      "                    coef\n",
      "Entrez_Gene_ID          \n",
      "254773          0.038898\n",
      "79993           0.039066\n",
      "735             0.039283\n",
      "54620           0.040465\n",
      "167681          0.040514\n",
      "27289           0.040727\n",
      "8853            0.041137\n",
      "8287            0.045354\n",
      "9086            0.045637\n",
      "5146            0.045797\n",
      "8284            0.047435\n",
      "7503            0.052744\n",
      "6192            0.057501\n",
      "3117            0.062199\n",
      "Index(['254773', '79993', '735', '54620', '167681', '27289', '8853', '8287',\n",
      "       '9086', '5146', '8284', '7503', '6192', '3117'],\n",
      "      dtype='object', name='Entrez_Gene_ID')\n"
     ]
    },
    {
     "name": "stderr",
     "output_type": "stream",
     "text": [
      "/home/emavgl/.local/lib/python3.5/site-packages/ipykernel_launcher.py:8: SettingWithCopyWarning: \n",
      "A value is trying to be set on a copy of a slice from a DataFrame.\n",
      "Try using .loc[row_indexer,col_indexer] = value instead\n",
      "\n",
      "See the caveats in the documentation: http://pandas.pydata.org/pandas-docs/stable/indexing.html#indexing-view-versus-copy\n",
      "  \n"
     ]
    }
   ],
   "source": [
    "sigma = 1/np.sqrt(df.shape[1])\n",
    "\n",
    "idx = np.abs(v_df.coef)>5*sigma\n",
    "print(\"genes beyond threshold:\", idx.sum())\n",
    "print(\"this is the threshold\", sigma)\n",
    "\n",
    "signature = v_df.loc[idx]\n",
    "signature['coef'] = signature['coef'].abs()\n",
    "signature = signature.sort_values(['coef'], ascending=True)\n",
    "print(signature)\n",
    "print(signature.index)"
   ]
  },
  {
   "cell_type": "code",
   "execution_count": 4,
   "metadata": {},
   "outputs": [
    {
     "name": "stdout",
     "output_type": "stream",
     "text": [
      "0\n",
      "[]\n",
      "0\n",
      "[]\n",
      "True\n"
     ]
    }
   ],
   "source": [
    "from_paper = [1278, 80763, 761, 219348, 25975, 2014, 6696, 1397, 1490, 22822, 1880, 171024, 1520, 80114, 115207, 151887, 22918, 389136, 8540, 7045, 25878, 2982, 2335, 7076, 5396, 4069, 8076, 3512, 10402, 3429, 83442, 712, 474344, 9457, 8470, 7037, 1291, 57863]\n",
    "from_paper = [str(x) for x in from_paper]\n",
    "ours = list(signature.index)\n",
    "matching = [x for x in from_paper if x in ours]\n",
    "print(len(matching))\n",
    "print(matching)\n",
    "\n",
    "all_our_genes = list(v_df.index)\n",
    "matching = [x for x in from_paper if x not in all_our_genes]\n",
    "print(len(matching))\n",
    "print(matching)\n",
    "print('1278' in all_our_genes)"
   ]
  },
  {
   "cell_type": "code",
   "execution_count": 5,
   "metadata": {},
   "outputs": [
    {
     "name": "stdout",
     "output_type": "stream",
     "text": [
      "wrote signature in data/signature.json\n",
      "wrote signature in data/total_genes.json\n",
      "wrote signature in signature.pkl\n"
     ]
    }
   ],
   "source": [
    "# export signature\n",
    "import json\n",
    "signature_genes = list(signature.index)\n",
    "total_genes = list(v_df.index)\n",
    "\n",
    "with open('data/signature.json', 'w') as outfile:\n",
    "    json.dump(signature_genes, outfile)\n",
    "    print(\"wrote signature in\" ,\"data/signature.json\")\n",
    "    \n",
    "with open('data/total_genes.json', 'w') as outfile:\n",
    "    json.dump(total_genes, outfile)\n",
    "    print(\"wrote signature in\" ,\"data/total_genes.json\")\n",
    "    \n",
    "signature.to_pickle('data/signature.pkl')\n",
    "print(\"wrote signature in signature.pkl\")"
   ]
  }
 ],
 "metadata": {
  "kernelspec": {
   "display_name": "Python 3",
   "language": "python3",
   "name": "python3"
  },
  "language_info": {
   "codemirror_mode": {
    "name": "ipython",
    "version": 3
   },
   "file_extension": ".py",
   "mimetype": "text/x-python",
   "name": "python",
   "nbconvert_exporter": "python",
   "pygments_lexer": "ipython3",
   "version": "3.5.2"
  }
 },
 "nbformat": 4,
 "nbformat_minor": 2
}
