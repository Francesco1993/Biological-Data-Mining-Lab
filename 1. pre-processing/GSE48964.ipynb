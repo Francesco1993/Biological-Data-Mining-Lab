{
 "cells": [
  {
   "cell_type": "markdown",
   "metadata": {},
   "source": [
    "# Integrative analysis of pathway deregulation in obesity #\n",
    "\n",
    "## Python implementation\n",
    "\n",
    "### Steps (according to the paper)\n",
    "\n",
    "1. Probes containing missing values are excluded from the analysis. \n",
    "\n",
    "2. Probes are mapped to Entrez ID labels if they are available in the associated platform. Otherwise the David portal is used to convert the available labels to Entrez ID labels. \n",
    "\n",
    "3. Values corresponding to raw expression counts or gene expression intensity are log2 transformed (if necessary). \n",
    "\n",
    "4. Probes mapping to the same Entrez ID label are averaged out. \n",
    "\n",
    "5. Probes that cannot be mapped to a unique Entrez ID label are excluded from the analysis, as well as those that cannot be mapped to any Entrez ID label at all. \n",
    "\n",
    "6. We apply a simple L1 normalization in linear space, imposing that the sum of expression of all genes is constant among samples. After these steps, each data set or batch is represented by a single expression matrix X. Each entry Xi j represents the log2 of the expression intensity of gene i in sample j."
   ]
  },
  {
   "cell_type": "markdown",
   "metadata": {},
   "source": [
    "### Imports"
   ]
  },
  {
   "cell_type": "code",
   "execution_count": 1,
   "metadata": {},
   "outputs": [],
   "source": [
    "# Import std libraries\n",
    "import os\n",
    "from operator import itemgetter \n",
    "import re\n",
    "\n",
    "# Import third party\n",
    "import numpy as np\n",
    "import pandas as pd\n",
    "import GEOparse\n",
    "\n",
    "# Set logging\n",
    "import logging\n",
    "logging.basicConfig(level=logging.INFO)\n",
    "logger = logging.getLogger()\n",
    "logging.getLogger(\"GEOparse\").setLevel(logging.WARNING)"
   ]
  },
  {
   "cell_type": "markdown",
   "metadata": {},
   "source": [
    "### Load Dataset\n",
    "\n",
    "Download the dataset (if needed) and load it.\n",
    "\n",
    "Some GEOparse names:\n",
    "- DataSet (GDS)\n",
    "- Series (GSE)\n",
    "- Platform (GPL)\n",
    "- Samples (GSM)"
   ]
  },
  {
   "cell_type": "code",
   "execution_count": 2,
   "metadata": {},
   "outputs": [
    {
     "name": "stdout",
     "output_type": "stream",
     "text": [
      "- Downloading GSE48964\n",
      "D: 100% - 12.8MiB  / 12.8MiB  eta 0:00:00\n",
      "- Dataset loaded\n"
     ]
    }
   ],
   "source": [
    "def load_dataset(dataset_id):\n",
    "    \"\"\"\n",
    "    Load the dataset from disk (or download it if it does not exists)\n",
    "    Arguments:\n",
    "    - dataset_id: the ID of the dataset to load\n",
    "    \n",
    "    Output:\n",
    "    - GSE object (GEOparse Series)\n",
    "    \"\"\"\n",
    "    path = \"./\" + dataset_id + \"_family.soft.gz\"\n",
    "    if os.path.exists(path):\n",
    "        # Load from an existing file\n",
    "        print(\"- Loading from\", path)\n",
    "        gse = GEOparse.get_GEO(filepath=path)\n",
    "    else:\n",
    "        # Download GSE and load it\n",
    "        print(\"- Downloading\", dataset_id)\n",
    "        gse = GEOparse.get_GEO(geo=dataset_id, destdir=\"./\")\n",
    "    return gse\n",
    "\n",
    "dataset_id = \"GSE48964\"\n",
    "gse = load_dataset(dataset_id)\n",
    "print(\"- Dataset loaded\")"
   ]
  },
  {
   "cell_type": "markdown",
   "metadata": {},
   "source": [
    "### Get Info\n",
    "\n",
    "Get some useful info and statistics from our data.\n",
    "\n",
    "We're going to extract:\n",
    "- number of platforms\n",
    "- number of samples\n",
    "- dimension of each sample"
   ]
  },
  {
   "cell_type": "code",
   "execution_count": 3,
   "metadata": {},
   "outputs": [
    {
     "name": "stdout",
     "output_type": "stream",
     "text": [
      "- Number of platforms 1\n",
      "- Number of samples 6 Remember, all Female in this dataset\n",
      "- Dimension of each sample (assuming are all the same) (33297, 2)\n",
      "\n",
      "Example of a sample dataframe:\n",
      "    ID_REF    VALUE\n",
      "0  7892501  4.97979\n",
      "1  7892502  4.95171\n",
      "2  7892503  6.82531\n",
      "3  7892504  8.53222\n",
      "4  7892505  5.47718\n",
      "(33297, 2)\n"
     ]
    }
   ],
   "source": [
    "# data_frames contains the data-frame of each sample\n",
    "# samples_name is a list which contains the name associated to each dataframe\n",
    "data_frames = []\n",
    "samples_information = []\n",
    "\n",
    "#this variable is not used but will help in finding elements that are correlated in the original experiment\n",
    "association_dictio = {}\n",
    "\n",
    "for gsm_name, gsm in gse.gsms.items():\n",
    "    #print(gsm.metadata)\n",
    "    \n",
    "    if \"obese\" in gsm.metadata['title'][0]:\n",
    "        identifier = gsm.metadata['geo_accession'][0] + \"_OU\"\n",
    "    elif \"lean\" in gsm.metadata['title'][0]:\n",
    "        identifier = gsm.metadata['geo_accession'][0] + \"_LU\"\n",
    "    \n",
    "    df = gsm.table\n",
    "    df['ID_REF'] = df['ID_REF'].map(str)\n",
    "    data_frames.append(df)\n",
    "    samples_information.append((gsm.metadata['geo_accession'][0], identifier))\n",
    "\n",
    "\n",
    "print(\"- Number of platforms\", len(gse.gpls.items()))\n",
    "print(\"- Number of samples\", len(data_frames), \"Remember, all Female in this dataset\")\n",
    "print(\"- Dimension of each sample (assuming are all the same)\", data_frames[0].shape)\n",
    "print('\\nExample of a sample dataframe:')\n",
    "print(data_frames[0].head())\n",
    "print(data_frames[0].shape)"
   ]
  },
  {
   "cell_type": "markdown",
   "metadata": {},
   "source": [
    "### Filter data #1\n",
    "\n",
    "We're going to:\n",
    "- Remove probes from the mapper, mapping to multiple Entrez IDs\n",
    "- Construct a Python dictionary containing the valid probes and their Entrez ID"
   ]
  },
  {
   "cell_type": "code",
   "execution_count": 4,
   "metadata": {},
   "outputs": [
    {
     "name": "stdout",
     "output_type": "stream",
     "text": [
      "- Mapper loaded 20053\n"
     ]
    }
   ],
   "source": [
    "def create_mapper(meta_data_tables):\n",
    "    \"\"\"\n",
    "    Returns a python dictionary that represents our mapper object\n",
    "    Important: not all probs_id are mapped to an ENTREZ_GENE_ID\n",
    "    probs_id without an enterez_id are not added to the dictionary\n",
    "    \"\"\"\n",
    "    mapper = {}\n",
    "    for row in meta_data_tables.iterrows():\n",
    "        #print(row)\n",
    "        #print(type(row[1]), len(row))\n",
    "        \n",
    "        if str(row[1][1]) == 'nan':\n",
    "            continue\n",
    "        \n",
    "        probs_id = row[1][0]\n",
    "\n",
    "        if probs_id in mapper and mapper[probs_id] != row[1][1]:\n",
    "            # Multiple enterez id for the same probs\n",
    "            # Set their value to None to invalid them\n",
    "            # Elements set to \"None\" are then removed\n",
    "            mapper[probs_id] = None\n",
    "\n",
    "        if probs_id not in mapper and not pd.isnull(row[1][1]):\n",
    "            mapper[probs_id] = row[1][1]\n",
    "            \n",
    "    # Remove invalid mapping (value = None)\n",
    "    # (Some of the probes are linked with multiple numbers (enterez_id ?) using /// as separator)\n",
    "    filtered_mapper = {k:v for k,v in mapper.items() if v != None and '/' not in v}\n",
    "    \n",
    "    return filtered_mapper\n",
    "\n",
    "meta_data_tables = pd.read_csv(\"./data/GPL6244.annot\", sep=\"\\t\", skiprows=27, usecols=[\"ID\",\"Gene ID\"], low_memory=True, dtype=str)\n",
    "#print(df.head())\n",
    "mapper = create_mapper(meta_data_tables)\n",
    "print(\"- Mapper loaded\", len(mapper))"
   ]
  },
  {
   "cell_type": "markdown",
   "metadata": {},
   "source": [
    "### Filter data #2: \n",
    "#### Remove rows without a matching enterez_id\n",
    "Intuition: \n",
    "1. Convert the dictionary **mapper** into a pandas' DataFrame (**mapper_df**).  \n",
    "2. Use a SQL-like inner join to merge **mapper_df** with the existing pandas' DataFrame.  \n",
    "Inner join creates a new Dataframe with *only* the matching rows.\n",
    "\n",
    "References:\n",
    "- https://www.w3schools.com/sql/sql_join_inner.asp\n",
    "- https://pandas.pydata.org/pandas-docs/stable/merging.html"
   ]
  },
  {
   "cell_type": "code",
   "execution_count": 5,
   "metadata": {},
   "outputs": [
    {
     "name": "stdout",
     "output_type": "stream",
     "text": [
      "<class 'str'>\n",
      "\n",
      "Example of the obtained Pandas DataFrame:\n",
      "        ENTREZ_GENE_ID\n",
      "ID_REF                \n",
      "7977841          54930\n",
      "8127109          22858\n",
      "7946033           3043\n",
      "8144213           7434\n",
      "8168303           6872\n"
     ]
    },
    {
     "data": {
      "text/plain": [
       "True"
      ]
     },
     "execution_count": 5,
     "metadata": {},
     "output_type": "execute_result"
    }
   ],
   "source": [
    "# Convert mapper to a Pandas Dataframe with two columns (probs, enterez_id)\n",
    "mapper_df = pd.DataFrame.from_dict(mapper, orient='index')\n",
    "mapper_df.index.name = 'ID_REF'\n",
    "mapper_df.columns = ['ENTREZ_GENE_ID']\n",
    "mapper_df['ENTREZ_GENE_ID'] = mapper_df['ENTREZ_GENE_ID'].map(str)\n",
    "print(type(mapper_df['ENTREZ_GENE_ID'][0]))\n",
    "mapper_df.index.map(str)\n",
    "\n",
    "print(\"\\nExample of the obtained Pandas DataFrame:\")\n",
    "print(mapper_df.head())\n",
    "\n",
    "# Create a mapper (sample_id, person_id)\n",
    "#mapper_sample_person = pd.DataFrame(samples_label)\n",
    "#mapper_sample_person = mapper_sample_person.set_index([samples_name])\n",
    "#mapper_sample_person = mapper_sample_person.transpose()\n",
    "#mapper_sample_person.head()\n",
    "\n",
    "'1278' in mapper.values()"
   ]
  },
  {
   "cell_type": "markdown",
   "metadata": {},
   "source": [
    "### Creation of a Dataframe Entrez ID - Value: genes common to all array\n",
    "For each sample:\n",
    "1. We convert probes' values in **log2(values)**\n",
    "2. Rows with the same **entrez_id** are merged together using the average (probes mapping to the same Entrez ID are averaged out)."
   ]
  },
  {
   "cell_type": "code",
   "execution_count": 6,
   "metadata": {
    "scrolled": false
   },
   "outputs": [
    {
     "name": "stdout",
     "output_type": "stream",
     "text": [
      "size before any removal (19037, 6)\n",
      "size after removing genes with missing value (19037, 6)\n",
      "\n",
      "Example of the obtained merged data frame:\n"
     ]
    },
    {
     "data": {
      "text/html": [
       "<div>\n",
       "<style>\n",
       "    .dataframe thead tr:only-child th {\n",
       "        text-align: right;\n",
       "    }\n",
       "\n",
       "    .dataframe thead th {\n",
       "        text-align: left;\n",
       "    }\n",
       "\n",
       "    .dataframe tbody tr th {\n",
       "        vertical-align: top;\n",
       "    }\n",
       "</style>\n",
       "<table border=\"1\" class=\"dataframe\">\n",
       "  <thead>\n",
       "    <tr style=\"text-align: right;\">\n",
       "      <th></th>\n",
       "      <th>GSM1187675_OU</th>\n",
       "      <th>GSM1187673_OU</th>\n",
       "      <th>GSM1187677_LU</th>\n",
       "      <th>GSM1187674_OU</th>\n",
       "      <th>GSM1187676_LU</th>\n",
       "      <th>GSM1187678_LU</th>\n",
       "    </tr>\n",
       "    <tr>\n",
       "      <th>ENTREZ_GENE_ID</th>\n",
       "      <th></th>\n",
       "      <th></th>\n",
       "      <th></th>\n",
       "      <th></th>\n",
       "      <th></th>\n",
       "      <th></th>\n",
       "    </tr>\n",
       "  </thead>\n",
       "  <tbody>\n",
       "    <tr>\n",
       "      <th>1</th>\n",
       "      <td>-14.290179</td>\n",
       "      <td>-14.238613</td>\n",
       "      <td>-14.264758</td>\n",
       "      <td>-14.213429</td>\n",
       "      <td>-14.254831</td>\n",
       "      <td>-14.271377</td>\n",
       "    </tr>\n",
       "    <tr>\n",
       "      <th>10</th>\n",
       "      <td>-15.817946</td>\n",
       "      <td>-15.832923</td>\n",
       "      <td>-15.682516</td>\n",
       "      <td>-15.601905</td>\n",
       "      <td>-15.767085</td>\n",
       "      <td>-15.665861</td>\n",
       "    </tr>\n",
       "    <tr>\n",
       "      <th>100</th>\n",
       "      <td>-13.640160</td>\n",
       "      <td>-13.677735</td>\n",
       "      <td>-13.530120</td>\n",
       "      <td>-13.780287</td>\n",
       "      <td>-13.605710</td>\n",
       "      <td>-13.734928</td>\n",
       "    </tr>\n",
       "    <tr>\n",
       "      <th>1000</th>\n",
       "      <td>-13.080175</td>\n",
       "      <td>-12.995080</td>\n",
       "      <td>-13.034852</td>\n",
       "      <td>-13.032072</td>\n",
       "      <td>-13.588164</td>\n",
       "      <td>-13.020116</td>\n",
       "    </tr>\n",
       "    <tr>\n",
       "      <th>10000</th>\n",
       "      <td>-13.620189</td>\n",
       "      <td>-13.545918</td>\n",
       "      <td>-13.601167</td>\n",
       "      <td>-13.596763</td>\n",
       "      <td>-13.638799</td>\n",
       "      <td>-13.620340</td>\n",
       "    </tr>\n",
       "  </tbody>\n",
       "</table>\n",
       "</div>"
      ],
      "text/plain": [
       "                GSM1187675_OU  GSM1187673_OU  GSM1187677_LU  GSM1187674_OU  \\\n",
       "ENTREZ_GENE_ID                                                               \n",
       "1                  -14.290179     -14.238613     -14.264758     -14.213429   \n",
       "10                 -15.817946     -15.832923     -15.682516     -15.601905   \n",
       "100                -13.640160     -13.677735     -13.530120     -13.780287   \n",
       "1000               -13.080175     -12.995080     -13.034852     -13.032072   \n",
       "10000              -13.620189     -13.545918     -13.601167     -13.596763   \n",
       "\n",
       "                GSM1187676_LU  GSM1187678_LU  \n",
       "ENTREZ_GENE_ID                                \n",
       "1                  -14.254831     -14.271377  \n",
       "10                 -15.767085     -15.665861  \n",
       "100                -13.605710     -13.734928  \n",
       "1000               -13.588164     -13.020116  \n",
       "10000              -13.638799     -13.620340  "
      ]
     },
     "execution_count": 6,
     "metadata": {},
     "output_type": "execute_result"
    }
   ],
   "source": [
    "# Update each df object ainside the list 'data_frames' with the dataframe with only matching probs_id\n",
    "# For each sample's dataframes:\n",
    "# - log2\n",
    "# - only matching entrez_id\n",
    "# - L1 normalization\n",
    "\n",
    "# - WARNING in this dataset the inner merge doesn't work and so we need to manually eliminate the ID_REF column\n",
    "\n",
    "data_frames_entrez = []\n",
    "for df in data_frames:\n",
    "    df[\"ID_REF\"] = df[\"ID_REF\"].map(str)\n",
    "    mdf = pd.merge(df, mapper_df, how='inner', left_on=['ID_REF'], right_index=True, sort=False)\n",
    "    mdf = mdf.groupby('ENTREZ_GENE_ID').mean()\n",
    "    mdf['VALUE'] = 2**mdf['VALUE']\n",
    "    mdf.VALUE = mdf.VALUE / mdf.VALUE.sum()\n",
    "    mdf['VALUE'] = np.log2(mdf['VALUE'])\n",
    "    data_frames_entrez.append(mdf)\n",
    "\n",
    "# concat data_frames by columns and use the sample GSM identifier as axis\n",
    "# concat data_frames by columns and use the sample GSM identifier as axis\n",
    "merged_entrez_value_df = pd.concat(data_frames_entrez, axis=1, keys=samples_information)\n",
    "print(\"size before any removal\", merged_entrez_value_df.shape)\n",
    "\n",
    "# remove gene with at least 1 missing value\n",
    "merged_entrez_value_df = merged_entrez_value_df.dropna(axis=0, how='any')\n",
    "print(\"size after removing genes with missing value\", merged_entrez_value_df.shape)\n",
    "\n",
    "# remove disturbing index \"VALUE\"\n",
    "merged_entrez_value_df.columns = merged_entrez_value_df.columns.droplevel([0, 2])\n",
    "\n",
    "\n",
    "final_df = merged_entrez_value_df\n",
    "\n",
    "# Change index type from numpy.int64 to str\n",
    "final_df.index = final_df.index.map(str)\n",
    "\n",
    "final_df.to_pickle(\"data/GSE48964_table.pkl\")\n",
    "\n",
    "print(\"\\nExample of the obtained merged data frame:\")\n",
    "merged_entrez_value_df.head()"
   ]
  }
 ],
 "metadata": {
  "kernelspec": {
   "display_name": "Python 3",
   "language": "python3",
   "name": "python3"
  },
  "language_info": {
   "codemirror_mode": {
    "name": "ipython",
    "version": 3
   },
   "file_extension": ".py",
   "mimetype": "text/x-python",
   "name": "python",
   "nbconvert_exporter": "python",
   "pygments_lexer": "ipython3",
   "version": "3.5.2"
  }
 },
 "nbformat": 4,
 "nbformat_minor": 2
}
