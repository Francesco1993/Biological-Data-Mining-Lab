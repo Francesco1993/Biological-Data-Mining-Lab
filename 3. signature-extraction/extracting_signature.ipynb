{
 "cells": [
  {
   "cell_type": "markdown",
   "metadata": {},
   "source": [
    "# Integrative analysis of pathway deregulation in obesity #\n",
    "\n",
    "## Python implementation\n",
    "\n",
    "### Extracting gene signature\n",
    "\n",
    "1. We have to load the dataset produced and look for those genes that are more related to obese people;"
   ]
  },
  {
   "cell_type": "code",
   "execution_count": 1,
   "metadata": {},
   "outputs": [],
   "source": [
    "### Imports\n",
    "\n",
    "# Import std libraries\n",
    "import os\n",
    "from operator import itemgetter \n",
    "import re\n",
    "import copy\n",
    "\n",
    "# Import third party\n",
    "import numpy as np\n",
    "import scipy as sp\n",
    "from numpy import *\n",
    "import pandas as pd\n",
    "import GEOparse\n",
    "from scipy.stats import ks_2samp\n",
    "from sklearn.decomposition import PCA\n",
    "from sklearn.preprocessing import StandardScaler\n",
    "from sklearn.decomposition import TruncatedSVD\n",
    "\n",
    "# import plotting tools\n",
    "import matplotlib.pyplot as plt\n",
    "from mpl_toolkits.mplot3d import Axes3D\n",
    "import matplotlib.patches as mpatches\n",
    "\n",
    "# Set logging\n",
    "import logging\n",
    "logging.basicConfig(level=logging.INFO)\n",
    "logger = logging.getLogger()\n",
    "logging.getLogger(\"GEOparse\").setLevel(logging.WARNING)\n",
    "\n",
    "plot_dir_path = './plots/'\n",
    "if not os.path.exists(plot_dir_path):\n",
    "    os.makedirs(plot_dir_path)\n",
    "    print('created ./path directory')\n",
    "    \n",
    "# enable matplotlib inline\n",
    "%matplotlib inline"
   ]
  },
  {
   "cell_type": "code",
   "execution_count": 2,
   "metadata": {
    "scrolled": true
   },
   "outputs": [
    {
     "data": {
      "text/html": [
       "<div>\n",
       "<style>\n",
       "    .dataframe thead tr:only-child th {\n",
       "        text-align: right;\n",
       "    }\n",
       "\n",
       "    .dataframe thead th {\n",
       "        text-align: left;\n",
       "    }\n",
       "\n",
       "    .dataframe tbody tr th {\n",
       "        vertical-align: top;\n",
       "    }\n",
       "</style>\n",
       "<table border=\"1\" class=\"dataframe\">\n",
       "  <thead>\n",
       "    <tr style=\"text-align: right;\">\n",
       "      <th></th>\n",
       "      <th>coef</th>\n",
       "    </tr>\n",
       "    <tr>\n",
       "      <th>Entrez_Gene_ID</th>\n",
       "      <th></th>\n",
       "    </tr>\n",
       "  </thead>\n",
       "  <tbody>\n",
       "    <tr>\n",
       "      <th>25975</th>\n",
       "      <td>-0.115041</td>\n",
       "    </tr>\n",
       "    <tr>\n",
       "      <th>7305</th>\n",
       "      <td>-0.093346</td>\n",
       "    </tr>\n",
       "    <tr>\n",
       "      <th>1880</th>\n",
       "      <td>-0.092337</td>\n",
       "    </tr>\n",
       "    <tr>\n",
       "      <th>4069</th>\n",
       "      <td>-0.077450</td>\n",
       "    </tr>\n",
       "    <tr>\n",
       "      <th>7076</th>\n",
       "      <td>-0.077426</td>\n",
       "    </tr>\n",
       "  </tbody>\n",
       "</table>\n",
       "</div>"
      ],
      "text/plain": [
       "                    coef\n",
       "Entrez_Gene_ID          \n",
       "25975          -0.115041\n",
       "7305           -0.093346\n",
       "1880           -0.092337\n",
       "4069           -0.077450\n",
       "7076           -0.077426"
      ]
     },
     "execution_count": 2,
     "metadata": {},
     "output_type": "execute_result"
    }
   ],
   "source": [
    "df = pd.read_pickle('../2. batch-effect-evaluation/data/merged_df_no_batch_effect.pkl').T\n",
    "v = (PCA().fit(df)).components_[0]\n",
    "#df.head\n",
    "v_df = pd.DataFrame(columns=[\"coef\",\"abs_coef\"], index = df.columns)\n",
    "v_df.index.names = [\"Entrez_Gene_ID\"]\n",
    "v_df[\"coef\"] = v\n",
    "v_df[\"abs_coef\"] = np.abs(v)\n",
    "v_df.sort_values(by=\"abs_coef\",ascending=False,inplace=True)\n",
    "v_df.drop(\"abs_coef\",axis=1,inplace=True)\n",
    "v_df.head()"
   ]
  },
  {
   "cell_type": "code",
   "execution_count": 3,
   "metadata": {},
   "outputs": [
    {
     "name": "stdout",
     "output_type": "stream",
     "text": [
      "genes beyond threshold: 63\n",
      "this is the threshold 0.00804465919403\n",
      "                    coef\n",
      "Entrez_Gene_ID          \n",
      "28959           0.040268\n",
      "5552            0.040287\n",
      "10170           0.040523\n",
      "55790           0.040553\n",
      "85379           0.040648\n",
      "10894           0.041157\n",
      "5396            0.041168\n",
      "4854            0.041670\n",
      "4239            0.041875\n",
      "2246            0.042014\n",
      "115908          0.042207\n",
      "1890            0.042481\n",
      "8839            0.042723\n",
      "1116            0.042764\n",
      "1292            0.043251\n",
      "3290            0.043373\n",
      "9770            0.043577\n",
      "7941            0.043853\n",
      "7262            0.044132\n",
      "80114           0.044165\n",
      "83483           0.044174\n",
      "2124            0.045086\n",
      "6351            0.045342\n",
      "4982            0.045913\n",
      "3576            0.046464\n",
      "2920            0.046656\n",
      "2207            0.046714\n",
      "714             0.046735\n",
      "7107            0.047105\n",
      "11326           0.047169\n",
      "...                  ...\n",
      "4332            0.048505\n",
      "929             0.049278\n",
      "11001           0.050846\n",
      "1959            0.051589\n",
      "219972          0.052004\n",
      "5803            0.052034\n",
      "2014            0.052140\n",
      "1490            0.052252\n",
      "6424            0.052742\n",
      "54504           0.052936\n",
      "1043            0.053423\n",
      "11075           0.053519\n",
      "6696            0.053949\n",
      "4318            0.054616\n",
      "1520            0.057191\n",
      "2162            0.057908\n",
      "84803           0.058381\n",
      "64102           0.060599\n",
      "713             0.060603\n",
      "3936            0.060614\n",
      "80763           0.067985\n",
      "3512            0.068269\n",
      "761             0.071071\n",
      "8076            0.074073\n",
      "563             0.076985\n",
      "7076            0.077426\n",
      "4069            0.077450\n",
      "1880            0.092337\n",
      "7305            0.093346\n",
      "25975           0.115041\n",
      "\n",
      "[63 rows x 1 columns]\n",
      "Index(['28959', '5552', '10170', '55790', '85379', '10894', '5396', '4854',\n",
      "       '4239', '2246', '115908', '1890', '8839', '1116', '1292', '3290',\n",
      "       '9770', '7941', '7262', '80114', '83483', '2124', '6351', '4982',\n",
      "       '3576', '2920', '2207', '714', '7107', '11326', '25878', '4360', '6355',\n",
      "       '4332', '929', '11001', '1959', '219972', '5803', '2014', '1490',\n",
      "       '6424', '54504', '1043', '11075', '6696', '4318', '1520', '2162',\n",
      "       '84803', '64102', '713', '3936', '80763', '3512', '761', '8076', '563',\n",
      "       '7076', '4069', '1880', '7305', '25975'],\n",
      "      dtype='object', name='Entrez_Gene_ID')\n"
     ]
    },
    {
     "name": "stderr",
     "output_type": "stream",
     "text": [
      "/home/emavgl/.local/lib/python3.5/site-packages/ipykernel_launcher.py:8: SettingWithCopyWarning: \n",
      "A value is trying to be set on a copy of a slice from a DataFrame.\n",
      "Try using .loc[row_indexer,col_indexer] = value instead\n",
      "\n",
      "See the caveats in the documentation: http://pandas.pydata.org/pandas-docs/stable/indexing.html#indexing-view-versus-copy\n",
      "  \n"
     ]
    }
   ],
   "source": [
    "sigma = 1/np.sqrt(df.shape[1])\n",
    "\n",
    "idx = np.abs(v_df.coef)>5*sigma\n",
    "print(\"genes beyond threshold:\", idx.sum())\n",
    "print(\"this is the threshold\", sigma)\n",
    "\n",
    "signature = v_df.loc[idx]\n",
    "signature['coef'] = signature['coef'].abs()\n",
    "signature = signature.sort_values(['coef'], ascending=True)\n",
    "print(signature)\n",
    "print(signature.index)"
   ]
  },
  {
   "cell_type": "code",
   "execution_count": 4,
   "metadata": {},
   "outputs": [
    {
     "name": "stdout",
     "output_type": "stream",
     "text": [
      "15\n",
      "['80763', '761', '25975', '2014', '6696', '1490', '1880', '1520', '80114', '25878', '7076', '5396', '4069', '8076', '3512']\n",
      "0\n",
      "[]\n",
      "True\n"
     ]
    }
   ],
   "source": [
    "from_paper = [1278, 80763, 761, 219348, 25975, 2014, 6696, 1397, 1490, 22822, 1880, 171024, 1520, 80114, 115207, 151887, 22918, 389136, 8540, 7045, 25878, 2982, 2335, 7076, 5396, 4069, 8076, 3512, 10402, 3429, 83442, 712, 474344, 9457, 8470, 7037, 1291, 57863]\n",
    "from_paper = [str(x) for x in from_paper]\n",
    "ours = list(signature.index)\n",
    "matching = [x for x in from_paper if x in ours]\n",
    "print(len(matching))\n",
    "print(matching)\n",
    "\n",
    "all_our_genes = list(v_df.index)\n",
    "matching = [x for x in from_paper if x not in all_our_genes]\n",
    "print(len(matching))\n",
    "print(matching)\n",
    "print('1278' in all_our_genes)"
   ]
  },
  {
   "cell_type": "code",
   "execution_count": 6,
   "metadata": {},
   "outputs": [
    {
     "name": "stdout",
     "output_type": "stream",
     "text": [
      "wrote signature in data/signature.json\n",
      "wrote signature in data/total_genes.json\n",
      "wrote signature in signature.pkl\n"
     ]
    }
   ],
   "source": [
    "# export signature\n",
    "import json\n",
    "signature_genes = list(signature.index)\n",
    "total_genes = list(v_df.index)\n",
    "\n",
    "with open('data/signature.json', 'w') as outfile:\n",
    "    json.dump(signature_genes, outfile)\n",
    "    print(\"wrote signature in\" ,\"data/signature.json\")\n",
    "    \n",
    "with open('data/total_genes.json', 'w') as outfile:\n",
    "    json.dump(total_genes, outfile)\n",
    "    print(\"wrote signature in\" ,\"data/total_genes.json\")\n",
    "    \n",
    "signature.to_pickle('data/signature.pkl')\n",
    "print(\"wrote signature in data/signature.pkl\")"
   ]
  }
 ],
 "metadata": {
  "kernelspec": {
   "display_name": "Python 3",
   "language": "python3",
   "name": "python3"
  },
  "language_info": {
   "codemirror_mode": {
    "name": "ipython",
    "version": 3
   },
   "file_extension": ".py",
   "mimetype": "text/x-python",
   "name": "python",
   "nbconvert_exporter": "python",
   "pygments_lexer": "ipython3",
   "version": "3.5.2"
  }
 },
 "nbformat": 4,
 "nbformat_minor": 2
}
